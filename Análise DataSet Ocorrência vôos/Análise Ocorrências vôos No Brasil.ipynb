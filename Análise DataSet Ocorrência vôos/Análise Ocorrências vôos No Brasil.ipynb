{
 "cells": [
  {
   "cell_type": "code",
   "execution_count": 255,
   "metadata": {},
   "outputs": [],
   "source": [
    "import matplotlib.pyplot as plt\n",
    "import pandas as pd\n",
    "from sklearn.cluster import KMeans\n",
    "from sklearn.preprocessing import StandardScaler\n",
    "import numpy as np\n",
    "import plotly.graph_objects as go\n",
    "import geoplot\n",
    "from shapely.geometry import Point\n",
    "import geopandas as gpd\n",
    "from geopandas import GeoDataFrame"
   ]
  },
  {
   "cell_type": "markdown",
   "metadata": {},
   "source": [
    "# DataSet Utilizado Para a Análize\n",
    "### https://www.kaggle.com/ronnycfs/ocorrencias-aviacao-civil-brasileira"
   ]
  },
  {
   "cell_type": "code",
   "execution_count": 256,
   "metadata": {},
   "outputs": [
    {
     "data": {
      "text/html": [
       "<div>\n",
       "<style scoped>\n",
       "    .dataframe tbody tr th:only-of-type {\n",
       "        vertical-align: middle;\n",
       "    }\n",
       "\n",
       "    .dataframe tbody tr th {\n",
       "        vertical-align: top;\n",
       "    }\n",
       "\n",
       "    .dataframe thead th {\n",
       "        text-align: right;\n",
       "    }\n",
       "</style>\n",
       "<table border=\"1\" class=\"dataframe\">\n",
       "  <thead>\n",
       "    <tr style=\"text-align: right;\">\n",
       "      <th></th>\n",
       "      <th>codigo_ocorrencia</th>\n",
       "      <th>ocorrencia_classificacao</th>\n",
       "      <th>ocorrencia_tipo</th>\n",
       "      <th>ocorrencia_tipo_categoria</th>\n",
       "      <th>ocorrencia_tipo_icao</th>\n",
       "      <th>ocorrencia_latitude</th>\n",
       "      <th>ocorrencia_longitude</th>\n",
       "      <th>ocorrencia_cidade</th>\n",
       "      <th>ocorrencia_uf</th>\n",
       "      <th>ocorrencia_pais</th>\n",
       "      <th>...</th>\n",
       "      <th>ocorrencia_horario</th>\n",
       "      <th>investigacao_aeronave_liberada</th>\n",
       "      <th>investigacao_status</th>\n",
       "      <th>divulgacao_relatorio_numero</th>\n",
       "      <th>divulgacao_relatorio_publicado</th>\n",
       "      <th>divulgacao_dia_publicacao</th>\n",
       "      <th>total_recomendacoes</th>\n",
       "      <th>total_aeronaves_envolvidas</th>\n",
       "      <th>ocorrencia_saida_pista</th>\n",
       "      <th>ocorrencia_dia_extracao</th>\n",
       "    </tr>\n",
       "  </thead>\n",
       "  <tbody>\n",
       "    <tr>\n",
       "      <td>0</td>\n",
       "      <td>201305055424986</td>\n",
       "      <td>ACIDENTE</td>\n",
       "      <td>FALHA DO MOTOR EM VOO</td>\n",
       "      <td>FALHA OU MAU FUNCIONAMENTO DO MOTOR</td>\n",
       "      <td>SCF-PP</td>\n",
       "      <td>-9.9085</td>\n",
       "      <td>-63.0333</td>\n",
       "      <td>ARIQUEMES</td>\n",
       "      <td>RO</td>\n",
       "      <td>BRASIL</td>\n",
       "      <td>...</td>\n",
       "      <td>11:00:00</td>\n",
       "      <td>NaN</td>\n",
       "      <td>FINALIZADA</td>\n",
       "      <td>***</td>\n",
       "      <td>NÃO</td>\n",
       "      <td>NaN</td>\n",
       "      <td>0</td>\n",
       "      <td>1</td>\n",
       "      <td>NÃO</td>\n",
       "      <td>2018-08-28</td>\n",
       "    </tr>\n",
       "    <tr>\n",
       "      <td>1</td>\n",
       "      <td>201605160250139</td>\n",
       "      <td>INCIDENTE GRAVE</td>\n",
       "      <td>COLISÃO COM OBSTÁCULO DURANTE A DECOLAGEM E POUSO</td>\n",
       "      <td>COLISÃO COM OBSTÁCULO DURANTE A DECOLAGEM E POUSO</td>\n",
       "      <td>CTOL</td>\n",
       "      <td>-11.2644</td>\n",
       "      <td>-61.2589</td>\n",
       "      <td>CACOAL</td>\n",
       "      <td>RO</td>\n",
       "      <td>BRASIL</td>\n",
       "      <td>...</td>\n",
       "      <td>19:19:00</td>\n",
       "      <td>SIM</td>\n",
       "      <td>ATIVA</td>\n",
       "      <td>IG-084/CENIPA/2016</td>\n",
       "      <td>NÃO</td>\n",
       "      <td>NaN</td>\n",
       "      <td>0</td>\n",
       "      <td>1</td>\n",
       "      <td>NÃO</td>\n",
       "      <td>2018-08-28</td>\n",
       "    </tr>\n",
       "    <tr>\n",
       "      <td>2</td>\n",
       "      <td>201805021421302</td>\n",
       "      <td>INCIDENTE</td>\n",
       "      <td>AERÓDROMO</td>\n",
       "      <td>AERÓDROMO</td>\n",
       "      <td>ADRM</td>\n",
       "      <td>-11.4956</td>\n",
       "      <td>-61.4508</td>\n",
       "      <td>CACOAL</td>\n",
       "      <td>RO</td>\n",
       "      <td>BRASIL</td>\n",
       "      <td>...</td>\n",
       "      <td>22:40:00</td>\n",
       "      <td>SIM</td>\n",
       "      <td>FINALIZADA</td>\n",
       "      <td>***</td>\n",
       "      <td>NÃO</td>\n",
       "      <td>NaN</td>\n",
       "      <td>0</td>\n",
       "      <td>1</td>\n",
       "      <td>NÃO</td>\n",
       "      <td>2018-08-28</td>\n",
       "    </tr>\n",
       "    <tr>\n",
       "      <td>3</td>\n",
       "      <td>201311259977425</td>\n",
       "      <td>INCIDENTE GRAVE</td>\n",
       "      <td>POUSO SEM TREM</td>\n",
       "      <td>CONTATO ANORMAL COM A PISTA</td>\n",
       "      <td>ARC</td>\n",
       "      <td>-11.4956</td>\n",
       "      <td>-61.4508</td>\n",
       "      <td>CACOAL</td>\n",
       "      <td>RO</td>\n",
       "      <td>BRASIL</td>\n",
       "      <td>...</td>\n",
       "      <td>12:32:00</td>\n",
       "      <td>NaN</td>\n",
       "      <td>FINALIZADA</td>\n",
       "      <td>IG-209/CENIPA/2013</td>\n",
       "      <td>SIM</td>\n",
       "      <td>2014-04-07</td>\n",
       "      <td>0</td>\n",
       "      <td>1</td>\n",
       "      <td>NÃO</td>\n",
       "      <td>2018-08-28</td>\n",
       "    </tr>\n",
       "    <tr>\n",
       "      <td>4</td>\n",
       "      <td>201103187273112</td>\n",
       "      <td>INCIDENTE</td>\n",
       "      <td>OUTROS</td>\n",
       "      <td>OUTROS</td>\n",
       "      <td>OTHR</td>\n",
       "      <td>-13.1950</td>\n",
       "      <td>-60.8184</td>\n",
       "      <td>CEREJEIRAS</td>\n",
       "      <td>RO</td>\n",
       "      <td>BRASIL</td>\n",
       "      <td>...</td>\n",
       "      <td>13:30:00</td>\n",
       "      <td>NaN</td>\n",
       "      <td>FINALIZADA</td>\n",
       "      <td>***</td>\n",
       "      <td>NÃO</td>\n",
       "      <td>NaN</td>\n",
       "      <td>0</td>\n",
       "      <td>1</td>\n",
       "      <td>NÃO</td>\n",
       "      <td>2018-08-28</td>\n",
       "    </tr>\n",
       "  </tbody>\n",
       "</table>\n",
       "<p>5 rows × 22 columns</p>\n",
       "</div>"
      ],
      "text/plain": [
       "   codigo_ocorrencia ocorrencia_classificacao  \\\n",
       "0    201305055424986                 ACIDENTE   \n",
       "1    201605160250139          INCIDENTE GRAVE   \n",
       "2    201805021421302                INCIDENTE   \n",
       "3    201311259977425          INCIDENTE GRAVE   \n",
       "4    201103187273112                INCIDENTE   \n",
       "\n",
       "                                     ocorrencia_tipo  \\\n",
       "0                              FALHA DO MOTOR EM VOO   \n",
       "1  COLISÃO COM OBSTÁCULO DURANTE A DECOLAGEM E POUSO   \n",
       "2                                          AERÓDROMO   \n",
       "3                                     POUSO SEM TREM   \n",
       "4                                             OUTROS   \n",
       "\n",
       "                           ocorrencia_tipo_categoria ocorrencia_tipo_icao  \\\n",
       "0                FALHA OU MAU FUNCIONAMENTO DO MOTOR               SCF-PP   \n",
       "1  COLISÃO COM OBSTÁCULO DURANTE A DECOLAGEM E POUSO                 CTOL   \n",
       "2                                          AERÓDROMO                 ADRM   \n",
       "3                        CONTATO ANORMAL COM A PISTA                  ARC   \n",
       "4                                             OUTROS                 OTHR   \n",
       "\n",
       "   ocorrencia_latitude  ocorrencia_longitude ocorrencia_cidade ocorrencia_uf  \\\n",
       "0              -9.9085              -63.0333         ARIQUEMES            RO   \n",
       "1             -11.2644              -61.2589            CACOAL            RO   \n",
       "2             -11.4956              -61.4508            CACOAL            RO   \n",
       "3             -11.4956              -61.4508            CACOAL            RO   \n",
       "4             -13.1950              -60.8184        CEREJEIRAS            RO   \n",
       "\n",
       "  ocorrencia_pais  ... ocorrencia_horario investigacao_aeronave_liberada  \\\n",
       "0          BRASIL  ...           11:00:00                            NaN   \n",
       "1          BRASIL  ...           19:19:00                            SIM   \n",
       "2          BRASIL  ...           22:40:00                            SIM   \n",
       "3          BRASIL  ...           12:32:00                            NaN   \n",
       "4          BRASIL  ...           13:30:00                            NaN   \n",
       "\n",
       "  investigacao_status divulgacao_relatorio_numero  \\\n",
       "0          FINALIZADA                         ***   \n",
       "1               ATIVA          IG-084/CENIPA/2016   \n",
       "2          FINALIZADA                         ***   \n",
       "3          FINALIZADA          IG-209/CENIPA/2013   \n",
       "4          FINALIZADA                         ***   \n",
       "\n",
       "  divulgacao_relatorio_publicado divulgacao_dia_publicacao  \\\n",
       "0                            NÃO                       NaN   \n",
       "1                            NÃO                       NaN   \n",
       "2                            NÃO                       NaN   \n",
       "3                            SIM                2014-04-07   \n",
       "4                            NÃO                       NaN   \n",
       "\n",
       "  total_recomendacoes total_aeronaves_envolvidas  ocorrencia_saida_pista  \\\n",
       "0                   0                          1                     NÃO   \n",
       "1                   0                          1                     NÃO   \n",
       "2                   0                          1                     NÃO   \n",
       "3                   0                          1                     NÃO   \n",
       "4                   0                          1                     NÃO   \n",
       "\n",
       "   ocorrencia_dia_extracao  \n",
       "0               2018-08-28  \n",
       "1               2018-08-28  \n",
       "2               2018-08-28  \n",
       "3               2018-08-28  \n",
       "4               2018-08-28  \n",
       "\n",
       "[5 rows x 22 columns]"
      ]
     },
     "execution_count": 256,
     "metadata": {},
     "output_type": "execute_result"
    }
   ],
   "source": [
    "base = pd.read_csv('ocoraero.csv')\n",
    "base.head()"
   ]
  },
  {
   "cell_type": "markdown",
   "metadata": {},
   "source": [
    "### Para melhor álise são separado os dados desejados, assim como realizado o processo de normalização dos dados."
   ]
  },
  {
   "cell_type": "code",
   "execution_count": 257,
   "metadata": {},
   "outputs": [
    {
     "data": {
      "text/plain": [
       "array([[ 0.94938732, -1.36385422],\n",
       "       [ 0.79203911, -1.20891651],\n",
       "       [ 0.76520903, -1.22567291],\n",
       "       ...,\n",
       "       [ 2.09923961,  4.14011055],\n",
       "       [ 2.09923961,  4.14011055],\n",
       "       [ 2.87813587,  1.25931175]])"
      ]
     },
     "execution_count": 257,
     "metadata": {},
     "output_type": "execute_result"
    }
   ],
   "source": [
    "coordenadas = base.iloc[:,[5,6]].values\n",
    "scaler = StandardScaler()\n",
    "coordenadas = scaler.fit_transform(coordenadas)\n",
    "coordenadas"
   ]
  },
  {
   "cell_type": "code",
   "execution_count": 258,
   "metadata": {},
   "outputs": [
    {
     "data": {
      "text/plain": [
       "array([[ -9.9085, -63.0333],\n",
       "       [-11.2644, -61.2589],\n",
       "       [-11.4956, -61.4508],\n",
       "       ...,\n",
       "       [  0.    ,   0.    ],\n",
       "       [  0.    ,   0.    ],\n",
       "       [  6.7119, -32.9919]])"
      ]
     },
     "execution_count": 258,
     "metadata": {},
     "output_type": "execute_result"
    }
   ],
   "source": [
    "Latitudes =base.iloc[:,[5,6]].values\n",
    "Latitudes"
   ]
  },
  {
   "cell_type": "markdown",
   "metadata": {},
   "source": [
    "### Realizado aplicação da técnica de apoio a escolha do \"K\" cluster Elbow Method -WSCC(Whith-cluster sum of Squares)"
   ]
  },
  {
   "cell_type": "code",
   "execution_count": 259,
   "metadata": {},
   "outputs": [],
   "source": [
    "wcss = []\n",
    "for i in range(1, 11):\n",
    "    kmeans = KMeans(n_clusters = i, random_state = 0)\n",
    "    kmeans.fit(coordenadas)\n",
    "    wcss.append(kmeans.inertia_)"
   ]
  },
  {
   "cell_type": "code",
   "execution_count": 260,
   "metadata": {},
   "outputs": [
    {
     "data": {
      "text/plain": [
       "Text(0, 0.5, 'WCSS')"
      ]
     },
     "execution_count": 260,
     "metadata": {},
     "output_type": "execute_result"
    },
    {
     "data": {
      "image/png": "[encoded data removed]",
      "text/plain": [
       "<Figure size 432x288 with 1 Axes>"
      ]
     },
     "metadata": {
      "needs_background": "light"
     },
     "output_type": "display_data"
    }
   ],
   "source": [
    "plt.plot(range(1, 11), wcss)\n",
    "plt.xlabel('Número de clusters')\n",
    "plt.ylabel('WCSS')"
   ]
  },
  {
   "cell_type": "markdown",
   "metadata": {},
   "source": [
    "### Treinamento do augorítimo K-means++"
   ]
  },
  {
   "cell_type": "code",
   "execution_count": 261,
   "metadata": {},
   "outputs": [],
   "source": [
    "kmeans = KMeans(n_clusters = 4, random_state = 0)\n",
    "previsoes = kmeans.fit_predict(coordenadas)"
   ]
  },
  {
   "cell_type": "code",
   "execution_count": 262,
   "metadata": {},
   "outputs": [
    {
     "data": {
      "text/plain": [
       "<matplotlib.legend.Legend at 0x1e78d1e0e10>"
      ]
     },
     "execution_count": 262,
     "metadata": {},
     "output_type": "execute_result"
    },
    {
     "data": {
      "image/png": "[encoded data removed]",
      "text/plain": [
       "<Figure size 432x288 with 1 Axes>"
      ]
     },
     "metadata": {
      "needs_background": "light"
     },
     "output_type": "display_data"
    }
   ],
   "source": [
    "plt.scatter(coordenadas[previsoes == 0, 0], coordenadas[previsoes == 0, 1], s = 100, c = 'red', label = 'Área 1')\n",
    "plt.scatter(coordenadas[previsoes == 1, 0], coordenadas[previsoes == 1, 1], s = 100, c = 'orange', label = 'Área 2')\n",
    "plt.scatter(coordenadas[previsoes == 2, 0], coordenadas[previsoes == 2, 1], s = 100, c = 'green', label = 'Área 3')\n",
    "plt.scatter(coordenadas[previsoes == 3, 0], coordenadas[previsoes == 3, 1], s = 100, c = 'blue', label = 'Área 4')\n",
    "plt.xlabel('Latitude')\n",
    "plt.ylabel('Longitude')\n",
    "plt.legend()"
   ]
  },
  {
   "cell_type": "markdown",
   "metadata": {},
   "source": [
    "### União de resultados do treinamento com dados relacionados"
   ]
  },
  {
   "cell_type": "code",
   "execution_count": 263,
   "metadata": {},
   "outputs": [
    {
     "name": "stdout",
     "output_type": "stream",
     "text": [
      "(3847, 4)\n",
      "(48, 4)\n",
      "(603, 4)\n",
      "(710, 4)\n"
     ]
    }
   ],
   "source": [
    "valores = pd.DataFrame(np.column_stack((base.iloc[:,[7,5,6]].values, previsoes)))\n",
    "valores.columns = ['cidade','latitude', 'longitude', 'clasificação']\n",
    "\n",
    "print(valores[valores['clasificação'] ==0].shape)\n",
    "print(valores[valores['clasificação'] ==1].shape)\n",
    "print(valores[valores['clasificação'] ==2].shape)\n",
    "print(valores[valores['clasificação'] ==3].shape)"
   ]
  },
  {
   "cell_type": "code",
   "execution_count": 264,
   "metadata": {},
   "outputs": [],
   "source": [
    "valores_classificacao = pd.DataFrame(np.column_stack((base.iloc[:,[7,5,6,1,2]].values, previsoes)))\n",
    "valores_classificacao.columns = ['cidade','latitude', 'longitude', 'ocorrencia_classificacao','ocorrencia_tipo_categoria', 'clasificação']"
   ]
  },
  {
   "cell_type": "markdown",
   "metadata": {},
   "source": [
    "### Separado apenas os Clusters com a maior e menor quantidade de ocorências respectivamente."
   ]
  },
  {
   "cell_type": "code",
   "execution_count": 265,
   "metadata": {},
   "outputs": [
    {
     "data": {
      "text/plain": [
       "array([-54.2125, -49.4405, -44.2806, ..., -55.5728, -55.5478, -47.1967],\n",
       "      dtype=object)"
      ]
     },
     "execution_count": 265,
     "metadata": {},
     "output_type": "execute_result"
    }
   ],
   "source": [
    "maior_frequencia = valores[valores['clasificação'] == 0]\n",
    "maior_frequencia['longitude'].values"
   ]
  },
  {
   "cell_type": "code",
   "execution_count": 266,
   "metadata": {},
   "outputs": [
    {
     "data": {
      "text/plain": [
       "array([47.9186, 48.7575, 41.3078, 55.1939, 48.9281, 47.2681, 55.6725,\n",
       "       54.5242, 47.3347, 48.1636, 69.8506, 46.5742, 38.5322, 43.1628,\n",
       "       43.2506, 54.4922, 52.8156, 58.0967, 48.5958, 35.5839, 53.5522,\n",
       "       43.9936, 43.9506, 43.9506, 46.1614, 49.5147, 11.8667, 54.7242,\n",
       "       49.3494, 46.8181, 56.4672, 44.4092, 51.4919, 51.2881, 52.685,\n",
       "       51.2039, 50.0158, 45.8922, 50.1436, 46.9436, 47.9797, 24.38,\n",
       "       49.4686, 46.9047, 49.3989, 47.9569, 46.6564, 46.6342], dtype=object)"
      ]
     },
     "execution_count": 266,
     "metadata": {},
     "output_type": "execute_result"
    }
   ],
   "source": [
    "menor_frequencia = valores[valores['clasificação'] == 1]\n",
    "menor_frequencia['longitude'].values"
   ]
  },
  {
   "cell_type": "markdown",
   "metadata": {},
   "source": [
    "### Montagem do GeoDataFrame do GeoPandas para visualização dos dados."
   ]
  },
  {
   "cell_type": "code",
   "execution_count": 267,
   "metadata": {},
   "outputs": [],
   "source": [
    "df = pd.DataFrame({'city': maior_frequencia['cidade'].values,\n",
    "                   'latitude': maior_frequencia['latitude'].values,\n",
    "                   'longitude': maior_frequencia['longitude'].values})\n",
    "\n",
    "geometry = [Point(xy) for xy in zip(df['longitude'], df['latitude'])]"
   ]
  },
  {
   "cell_type": "code",
   "execution_count": 268,
   "metadata": {},
   "outputs": [],
   "source": [
    "df2 = pd.DataFrame({'city': menor_frequencia['cidade'].values,\n",
    "                   'latitude': menor_frequencia['latitude'].values,\n",
    "                   'longitude': menor_frequencia['longitude'].values})\n",
    "\n",
    "geometry2 = [Point(xy) for xy in zip(df2['longitude'], df2['latitude'])]"
   ]
  },
  {
   "cell_type": "code",
   "execution_count": 269,
   "metadata": {},
   "outputs": [],
   "source": [
    "gdf = gpd.GeoDataFrame(df.drop(['latitude', 'longitude'], axis=1),\n",
    "                       crs={'init': 'epsg:2262'},\n",
    "                       geometry=geometry)"
   ]
  },
  {
   "cell_type": "code",
   "execution_count": 270,
   "metadata": {},
   "outputs": [],
   "source": [
    "gdf2 = gpd.GeoDataFrame(df2.drop(['latitude', 'longitude'], axis=1),\n",
    "                       crs={'init': 'epsg:2262'},\n",
    "                       geometry=geometry2)"
   ]
  },
  {
   "cell_type": "code",
   "execution_count": 271,
   "metadata": {},
   "outputs": [
    {
     "data": {
      "image/png": "[encoded data removed]",
      "text/plain": [
       "<Figure size 432x288 with 1 Axes>"
      ]
     },
     "metadata": {
      "needs_background": "light"
     },
     "output_type": "display_data"
    }
   ],
   "source": [
    "world = gpd.read_file(gpd.datasets.get_path('naturalearth_lowres'))\n",
    "\n",
    "ax = world[world.continent == 'South America'].plot(\n",
    "    color='white', edgecolor='black')\n",
    "\n",
    "ax.set_aspect('equal')\n",
    "\n",
    "gdf.plot(ax=ax, color='blue')\n",
    "gdf2.plot(ax=ax, color='red')\n",
    "plt.show();"
   ]
  },
  {
   "cell_type": "code",
   "execution_count": 272,
   "metadata": {},
   "outputs": [
    {
     "data": {
      "image/png": "[encoded data removed]",
      "text/plain": [
       "<Figure size 432x288 with 1 Axes>"
      ]
     },
     "metadata": {
      "needs_background": "light"
     },
     "output_type": "display_data"
    }
   ],
   "source": [
    "base = world.plot(color='white', edgecolor='black')\n",
    "gdf.plot(ax=base, marker='o', color='blue', markersize=5)\n",
    "gdf2.plot(ax=base, marker='o', color='red',markersize=5)\n",
    "plt.show()"
   ]
  },
  {
   "cell_type": "markdown",
   "metadata": {},
   "source": [
    "### Análise dos dados do gluster com maior quantidade de ocorrências. "
   ]
  },
  {
   "cell_type": "code",
   "execution_count": 273,
   "metadata": {},
   "outputs": [
    {
     "data": {
      "text/plain": [
       "ocorrencia_tipo_categoria\n",
       "AERONAVE ATINGIDA POR OBJETO                   False\n",
       "AERÓDROMO                                      False\n",
       "ALARME FALSO DE FOGO OU DE SUPERAQUECIMENTO    False\n",
       "CAUSADO POR FENÔMENO METEOROLÓGICO EM VOO      False\n",
       "CAUSADO POR FENÔMENO METEOROLÓGICO NO SOLO     False\n",
       "Name: ocorrencia_tipo_categoria, dtype: bool"
      ]
     },
     "execution_count": 273,
     "metadata": {},
     "output_type": "execute_result"
    }
   ],
   "source": [
    "grupo_ocorrencias = valores_classificacao.groupby('ocorrencia_tipo_categoria')['ocorrencia_tipo_categoria'].size() > 200\n",
    "grupo_ocorrencias.sort_values(ascending=True)\n",
    "grupo_ocorrencias.head()"
   ]
  },
  {
   "cell_type": "code",
   "execution_count": 274,
   "metadata": {},
   "outputs": [
    {
     "data": {
      "text/html": [
       "<div>\n",
       "<style scoped>\n",
       "    .dataframe tbody tr th:only-of-type {\n",
       "        vertical-align: middle;\n",
       "    }\n",
       "\n",
       "    .dataframe tbody tr th {\n",
       "        vertical-align: top;\n",
       "    }\n",
       "\n",
       "    .dataframe thead th {\n",
       "        text-align: right;\n",
       "    }\n",
       "</style>\n",
       "<table border=\"1\" class=\"dataframe\">\n",
       "  <thead>\n",
       "    <tr style=\"text-align: right;\">\n",
       "      <th></th>\n",
       "      <th>ocorrencia_tipo_categoria</th>\n",
       "    </tr>\n",
       "    <tr>\n",
       "      <th>ocorrencia_tipo_categoria</th>\n",
       "      <th></th>\n",
       "    </tr>\n",
       "  </thead>\n",
       "  <tbody>\n",
       "    <tr>\n",
       "      <td>COM TREM DE POUSO</td>\n",
       "      <td>True</td>\n",
       "    </tr>\n",
       "    <tr>\n",
       "      <td>ESTOURO DE PNEU</td>\n",
       "      <td>True</td>\n",
       "    </tr>\n",
       "    <tr>\n",
       "      <td>FALHA DO MOTOR EM VOO</td>\n",
       "      <td>True</td>\n",
       "    </tr>\n",
       "    <tr>\n",
       "      <td>FALHA OU MAU FUNCIONAMENTO DE SISTEMA / COMPONENTE</td>\n",
       "      <td>True</td>\n",
       "    </tr>\n",
       "    <tr>\n",
       "      <td>OUTROS</td>\n",
       "      <td>True</td>\n",
       "    </tr>\n",
       "    <tr>\n",
       "      <td>PERDA DE CONTROLE EM VOO</td>\n",
       "      <td>True</td>\n",
       "    </tr>\n",
       "    <tr>\n",
       "      <td>PERDA DE CONTROLE NO SOLO</td>\n",
       "      <td>True</td>\n",
       "    </tr>\n",
       "  </tbody>\n",
       "</table>\n",
       "</div>"
      ],
      "text/plain": [
       "                                                    ocorrencia_tipo_categoria\n",
       "ocorrencia_tipo_categoria                                                    \n",
       "COM TREM DE POUSO                                                        True\n",
       "ESTOURO DE PNEU                                                          True\n",
       "FALHA DO MOTOR EM VOO                                                    True\n",
       "FALHA OU MAU FUNCIONAMENTO DE SISTEMA / COMPONE...                       True\n",
       "OUTROS                                                                   True\n",
       "PERDA DE CONTROLE EM VOO                                                 True\n",
       "PERDA DE CONTROLE NO SOLO                                                True"
      ]
     },
     "execution_count": 274,
     "metadata": {},
     "output_type": "execute_result"
    }
   ],
   "source": [
    "valor = pd.DataFrame(grupo_ocorrencias)\n",
    "ass = valor[valor['ocorrencia_tipo_categoria'] == True]\n",
    "ass.head(20)"
   ]
  },
  {
   "cell_type": "code",
   "execution_count": 275,
   "metadata": {},
   "outputs": [
    {
     "data": {
      "text/plain": [
       "ocorrencia_classificacao\n",
       "ACIDENTE           1714\n",
       "INCIDENTE          2861\n",
       "INCIDENTE GRAVE     633\n",
       "Name: ocorrencia_classificacao, dtype: int64"
      ]
     },
     "execution_count": 275,
     "metadata": {},
     "output_type": "execute_result"
    }
   ],
   "source": [
    "grupo_categorio = valores_classificacao.groupby('ocorrencia_classificacao')['ocorrencia_classificacao'].size()\n",
    "grupo_categorio.sort_values(ascending=True)\n",
    "grupo_categorio.head(10)"
   ]
  },
  {
   "cell_type": "code",
   "execution_count": 276,
   "metadata": {},
   "outputs": [
    {
     "data": {
      "text/plain": [
       "clasificação\n",
       "0    3847\n",
       "1      48\n",
       "2     603\n",
       "3     710\n",
       "Name: clasificação, dtype: int64"
      ]
     },
     "execution_count": 276,
     "metadata": {},
     "output_type": "execute_result"
    }
   ],
   "source": [
    "grupo_ocorrencias = valores_classificacao.groupby('clasificação')['clasificação'].size()\n",
    "grupo_ocorrencias.head()"
   ]
  }
 ],
 "metadata": {
  "kernelspec": {
   "display_name": "Python 3",
   "language": "python",
   "name": "python3"
  },
  "language_info": {
   "codemirror_mode": {
    "name": "ipython",
    "version": 3
   },
   "file_extension": ".py",
   "mimetype": "text/x-python",
   "name": "python",
   "nbconvert_exporter": "python",
   "pygments_lexer": "ipython3",
   "version": "3.7.3"
  }
 },
 "nbformat": 4,
 "nbformat_minor": 2
}
